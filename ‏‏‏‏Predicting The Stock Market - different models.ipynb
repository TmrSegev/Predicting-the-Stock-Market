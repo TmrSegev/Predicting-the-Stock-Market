{
 "cells": [
  {
   "cell_type": "markdown",
   "metadata": {},
   "source": [
    "# Predicting the Stock Market"
   ]
  },
  {
   "cell_type": "code",
   "execution_count": 2,
   "metadata": {
    "scrolled": true
   },
   "outputs": [
    {
     "data": {
      "text/html": [
       "<div>\n",
       "<style scoped>\n",
       "    .dataframe tbody tr th:only-of-type {\n",
       "        vertical-align: middle;\n",
       "    }\n",
       "\n",
       "    .dataframe tbody tr th {\n",
       "        vertical-align: top;\n",
       "    }\n",
       "\n",
       "    .dataframe thead th {\n",
       "        text-align: right;\n",
       "    }\n",
       "</style>\n",
       "<table border=\"1\" class=\"dataframe\">\n",
       "  <thead>\n",
       "    <tr style=\"text-align: right;\">\n",
       "      <th></th>\n",
       "      <th>Date</th>\n",
       "      <th>Open</th>\n",
       "      <th>High</th>\n",
       "      <th>Low</th>\n",
       "      <th>Close</th>\n",
       "      <th>Adj Close</th>\n",
       "      <th>Volume</th>\n",
       "    </tr>\n",
       "  </thead>\n",
       "  <tbody>\n",
       "    <tr>\n",
       "      <th>7431</th>\n",
       "      <td>2022-08-03</td>\n",
       "      <td>410.299988</td>\n",
       "      <td>415.679993</td>\n",
       "      <td>410.000000</td>\n",
       "      <td>414.450012</td>\n",
       "      <td>414.450012</td>\n",
       "      <td>67820600</td>\n",
       "    </tr>\n",
       "    <tr>\n",
       "      <th>7432</th>\n",
       "      <td>2022-08-04</td>\n",
       "      <td>414.369995</td>\n",
       "      <td>415.089996</td>\n",
       "      <td>412.440002</td>\n",
       "      <td>414.170013</td>\n",
       "      <td>414.170013</td>\n",
       "      <td>45656600</td>\n",
       "    </tr>\n",
       "    <tr>\n",
       "      <th>7433</th>\n",
       "      <td>2022-08-05</td>\n",
       "      <td>409.660004</td>\n",
       "      <td>414.149994</td>\n",
       "      <td>409.600006</td>\n",
       "      <td>413.470001</td>\n",
       "      <td>413.470001</td>\n",
       "      <td>56755600</td>\n",
       "    </tr>\n",
       "    <tr>\n",
       "      <th>7434</th>\n",
       "      <td>2022-08-08</td>\n",
       "      <td>415.250000</td>\n",
       "      <td>417.619995</td>\n",
       "      <td>411.829987</td>\n",
       "      <td>412.989990</td>\n",
       "      <td>412.989990</td>\n",
       "      <td>53886100</td>\n",
       "    </tr>\n",
       "    <tr>\n",
       "      <th>7435</th>\n",
       "      <td>2022-08-09</td>\n",
       "      <td>412.220001</td>\n",
       "      <td>412.750000</td>\n",
       "      <td>410.220001</td>\n",
       "      <td>411.350006</td>\n",
       "      <td>411.350006</td>\n",
       "      <td>44931800</td>\n",
       "    </tr>\n",
       "    <tr>\n",
       "      <th>7436</th>\n",
       "      <td>2022-08-10</td>\n",
       "      <td>418.779999</td>\n",
       "      <td>420.140015</td>\n",
       "      <td>416.720001</td>\n",
       "      <td>419.989990</td>\n",
       "      <td>419.989990</td>\n",
       "      <td>68665700</td>\n",
       "    </tr>\n",
       "    <tr>\n",
       "      <th>7437</th>\n",
       "      <td>2022-08-11</td>\n",
       "      <td>422.989990</td>\n",
       "      <td>424.950012</td>\n",
       "      <td>419.209991</td>\n",
       "      <td>419.989990</td>\n",
       "      <td>419.989990</td>\n",
       "      <td>59489700</td>\n",
       "    </tr>\n",
       "    <tr>\n",
       "      <th>7438</th>\n",
       "      <td>2022-08-12</td>\n",
       "      <td>422.029999</td>\n",
       "      <td>427.209991</td>\n",
       "      <td>421.029999</td>\n",
       "      <td>427.100006</td>\n",
       "      <td>427.100006</td>\n",
       "      <td>61644600</td>\n",
       "    </tr>\n",
       "    <tr>\n",
       "      <th>7439</th>\n",
       "      <td>2022-08-15</td>\n",
       "      <td>424.769989</td>\n",
       "      <td>429.410004</td>\n",
       "      <td>424.709991</td>\n",
       "      <td>428.859985</td>\n",
       "      <td>428.859985</td>\n",
       "      <td>54048300</td>\n",
       "    </tr>\n",
       "    <tr>\n",
       "      <th>7440</th>\n",
       "      <td>2022-08-16</td>\n",
       "      <td>427.730011</td>\n",
       "      <td>431.730011</td>\n",
       "      <td>426.880005</td>\n",
       "      <td>429.700012</td>\n",
       "      <td>429.700012</td>\n",
       "      <td>59289000</td>\n",
       "    </tr>\n",
       "    <tr>\n",
       "      <th>7441</th>\n",
       "      <td>2022-08-17</td>\n",
       "      <td>425.910004</td>\n",
       "      <td>429.500000</td>\n",
       "      <td>424.540009</td>\n",
       "      <td>426.649994</td>\n",
       "      <td>426.649994</td>\n",
       "      <td>63563400</td>\n",
       "    </tr>\n",
       "    <tr>\n",
       "      <th>7442</th>\n",
       "      <td>2022-08-18</td>\n",
       "      <td>426.859985</td>\n",
       "      <td>428.609985</td>\n",
       "      <td>425.500000</td>\n",
       "      <td>427.890015</td>\n",
       "      <td>427.890015</td>\n",
       "      <td>49023200</td>\n",
       "    </tr>\n",
       "    <tr>\n",
       "      <th>7443</th>\n",
       "      <td>2022-08-19</td>\n",
       "      <td>424.980011</td>\n",
       "      <td>425.260010</td>\n",
       "      <td>421.220001</td>\n",
       "      <td>422.140015</td>\n",
       "      <td>422.140015</td>\n",
       "      <td>67934700</td>\n",
       "    </tr>\n",
       "    <tr>\n",
       "      <th>7444</th>\n",
       "      <td>2022-08-22</td>\n",
       "      <td>417.049988</td>\n",
       "      <td>417.230011</td>\n",
       "      <td>412.399994</td>\n",
       "      <td>413.350006</td>\n",
       "      <td>413.350006</td>\n",
       "      <td>77695600</td>\n",
       "    </tr>\n",
       "    <tr>\n",
       "      <th>7445</th>\n",
       "      <td>2022-08-23</td>\n",
       "      <td>412.899994</td>\n",
       "      <td>415.420013</td>\n",
       "      <td>411.769989</td>\n",
       "      <td>412.350006</td>\n",
       "      <td>412.350006</td>\n",
       "      <td>49105200</td>\n",
       "    </tr>\n",
       "    <tr>\n",
       "      <th>7446</th>\n",
       "      <td>2022-08-24</td>\n",
       "      <td>412.109985</td>\n",
       "      <td>415.109985</td>\n",
       "      <td>411.390015</td>\n",
       "      <td>413.670013</td>\n",
       "      <td>413.670013</td>\n",
       "      <td>49177800</td>\n",
       "    </tr>\n",
       "    <tr>\n",
       "      <th>7447</th>\n",
       "      <td>2022-08-25</td>\n",
       "      <td>415.239990</td>\n",
       "      <td>419.559998</td>\n",
       "      <td>414.089996</td>\n",
       "      <td>419.510010</td>\n",
       "      <td>419.510010</td>\n",
       "      <td>50942300</td>\n",
       "    </tr>\n",
       "    <tr>\n",
       "      <th>7448</th>\n",
       "      <td>2022-08-26</td>\n",
       "      <td>419.390015</td>\n",
       "      <td>419.959991</td>\n",
       "      <td>405.250000</td>\n",
       "      <td>405.309998</td>\n",
       "      <td>405.309998</td>\n",
       "      <td>102896000</td>\n",
       "    </tr>\n",
       "    <tr>\n",
       "      <th>7449</th>\n",
       "      <td>2022-08-29</td>\n",
       "      <td>402.200012</td>\n",
       "      <td>405.839996</td>\n",
       "      <td>401.200012</td>\n",
       "      <td>402.630005</td>\n",
       "      <td>402.630005</td>\n",
       "      <td>65370800</td>\n",
       "    </tr>\n",
       "    <tr>\n",
       "      <th>7450</th>\n",
       "      <td>2022-08-30</td>\n",
       "      <td>403.850006</td>\n",
       "      <td>404.100006</td>\n",
       "      <td>396.000000</td>\n",
       "      <td>398.209991</td>\n",
       "      <td>398.209991</td>\n",
       "      <td>85460800</td>\n",
       "    </tr>\n",
       "  </tbody>\n",
       "</table>\n",
       "</div>"
      ],
      "text/plain": [
       "           Date        Open        High         Low       Close   Adj Close  \\\n",
       "7431 2022-08-03  410.299988  415.679993  410.000000  414.450012  414.450012   \n",
       "7432 2022-08-04  414.369995  415.089996  412.440002  414.170013  414.170013   \n",
       "7433 2022-08-05  409.660004  414.149994  409.600006  413.470001  413.470001   \n",
       "7434 2022-08-08  415.250000  417.619995  411.829987  412.989990  412.989990   \n",
       "7435 2022-08-09  412.220001  412.750000  410.220001  411.350006  411.350006   \n",
       "7436 2022-08-10  418.779999  420.140015  416.720001  419.989990  419.989990   \n",
       "7437 2022-08-11  422.989990  424.950012  419.209991  419.989990  419.989990   \n",
       "7438 2022-08-12  422.029999  427.209991  421.029999  427.100006  427.100006   \n",
       "7439 2022-08-15  424.769989  429.410004  424.709991  428.859985  428.859985   \n",
       "7440 2022-08-16  427.730011  431.730011  426.880005  429.700012  429.700012   \n",
       "7441 2022-08-17  425.910004  429.500000  424.540009  426.649994  426.649994   \n",
       "7442 2022-08-18  426.859985  428.609985  425.500000  427.890015  427.890015   \n",
       "7443 2022-08-19  424.980011  425.260010  421.220001  422.140015  422.140015   \n",
       "7444 2022-08-22  417.049988  417.230011  412.399994  413.350006  413.350006   \n",
       "7445 2022-08-23  412.899994  415.420013  411.769989  412.350006  412.350006   \n",
       "7446 2022-08-24  412.109985  415.109985  411.390015  413.670013  413.670013   \n",
       "7447 2022-08-25  415.239990  419.559998  414.089996  419.510010  419.510010   \n",
       "7448 2022-08-26  419.390015  419.959991  405.250000  405.309998  405.309998   \n",
       "7449 2022-08-29  402.200012  405.839996  401.200012  402.630005  402.630005   \n",
       "7450 2022-08-30  403.850006  404.100006  396.000000  398.209991  398.209991   \n",
       "\n",
       "         Volume  \n",
       "7431   67820600  \n",
       "7432   45656600  \n",
       "7433   56755600  \n",
       "7434   53886100  \n",
       "7435   44931800  \n",
       "7436   68665700  \n",
       "7437   59489700  \n",
       "7438   61644600  \n",
       "7439   54048300  \n",
       "7440   59289000  \n",
       "7441   63563400  \n",
       "7442   49023200  \n",
       "7443   67934700  \n",
       "7444   77695600  \n",
       "7445   49105200  \n",
       "7446   49177800  \n",
       "7447   50942300  \n",
       "7448  102896000  \n",
       "7449   65370800  \n",
       "7450   85460800  "
      ]
     },
     "execution_count": 2,
     "metadata": {},
     "output_type": "execute_result"
    }
   ],
   "source": [
    "import pandas as pd\n",
    "from datetime import datetime\n",
    "import numpy as np\n",
    "# import yfinance as yf\n",
    "\n",
    "spy = pd.read_csv('SPY2.csv')\n",
    "spy['Date'] = pd.to_datetime(spy['Date'])\n",
    "spy = spy.sort_values('Date', ascending=True)\n",
    "spy.tail(20)"
   ]
  },
  {
   "cell_type": "markdown",
   "metadata": {},
   "source": [
    "Creating the tommorow close price column as our target."
   ]
  },
  {
   "cell_type": "code",
   "execution_count": 3,
   "metadata": {},
   "outputs": [
    {
     "data": {
      "text/html": [
       "<div>\n",
       "<style scoped>\n",
       "    .dataframe tbody tr th:only-of-type {\n",
       "        vertical-align: middle;\n",
       "    }\n",
       "\n",
       "    .dataframe tbody tr th {\n",
       "        vertical-align: top;\n",
       "    }\n",
       "\n",
       "    .dataframe thead th {\n",
       "        text-align: right;\n",
       "    }\n",
       "</style>\n",
       "<table border=\"1\" class=\"dataframe\">\n",
       "  <thead>\n",
       "    <tr style=\"text-align: right;\">\n",
       "      <th></th>\n",
       "      <th>Date</th>\n",
       "      <th>Open</th>\n",
       "      <th>High</th>\n",
       "      <th>Low</th>\n",
       "      <th>Close</th>\n",
       "      <th>Adj Close</th>\n",
       "      <th>Volume</th>\n",
       "      <th>Tommorow high</th>\n",
       "      <th>Tommorow low</th>\n",
       "    </tr>\n",
       "  </thead>\n",
       "  <tbody>\n",
       "    <tr>\n",
       "      <th>7446</th>\n",
       "      <td>2022-08-24</td>\n",
       "      <td>412.109985</td>\n",
       "      <td>415.109985</td>\n",
       "      <td>411.390015</td>\n",
       "      <td>413.670013</td>\n",
       "      <td>413.670013</td>\n",
       "      <td>49177800</td>\n",
       "      <td>419.559998</td>\n",
       "      <td>414.089996</td>\n",
       "    </tr>\n",
       "    <tr>\n",
       "      <th>7447</th>\n",
       "      <td>2022-08-25</td>\n",
       "      <td>415.239990</td>\n",
       "      <td>419.559998</td>\n",
       "      <td>414.089996</td>\n",
       "      <td>419.510010</td>\n",
       "      <td>419.510010</td>\n",
       "      <td>50942300</td>\n",
       "      <td>419.959991</td>\n",
       "      <td>405.250000</td>\n",
       "    </tr>\n",
       "    <tr>\n",
       "      <th>7448</th>\n",
       "      <td>2022-08-26</td>\n",
       "      <td>419.390015</td>\n",
       "      <td>419.959991</td>\n",
       "      <td>405.250000</td>\n",
       "      <td>405.309998</td>\n",
       "      <td>405.309998</td>\n",
       "      <td>102896000</td>\n",
       "      <td>405.839996</td>\n",
       "      <td>401.200012</td>\n",
       "    </tr>\n",
       "    <tr>\n",
       "      <th>7449</th>\n",
       "      <td>2022-08-29</td>\n",
       "      <td>402.200012</td>\n",
       "      <td>405.839996</td>\n",
       "      <td>401.200012</td>\n",
       "      <td>402.630005</td>\n",
       "      <td>402.630005</td>\n",
       "      <td>65370800</td>\n",
       "      <td>404.100006</td>\n",
       "      <td>396.000000</td>\n",
       "    </tr>\n",
       "    <tr>\n",
       "      <th>7450</th>\n",
       "      <td>2022-08-30</td>\n",
       "      <td>403.850006</td>\n",
       "      <td>404.100006</td>\n",
       "      <td>396.000000</td>\n",
       "      <td>398.209991</td>\n",
       "      <td>398.209991</td>\n",
       "      <td>85460800</td>\n",
       "      <td>NaN</td>\n",
       "      <td>NaN</td>\n",
       "    </tr>\n",
       "  </tbody>\n",
       "</table>\n",
       "</div>"
      ],
      "text/plain": [
       "           Date        Open        High         Low       Close   Adj Close  \\\n",
       "7446 2022-08-24  412.109985  415.109985  411.390015  413.670013  413.670013   \n",
       "7447 2022-08-25  415.239990  419.559998  414.089996  419.510010  419.510010   \n",
       "7448 2022-08-26  419.390015  419.959991  405.250000  405.309998  405.309998   \n",
       "7449 2022-08-29  402.200012  405.839996  401.200012  402.630005  402.630005   \n",
       "7450 2022-08-30  403.850006  404.100006  396.000000  398.209991  398.209991   \n",
       "\n",
       "         Volume  Tommorow high  Tommorow low  \n",
       "7446   49177800     419.559998    414.089996  \n",
       "7447   50942300     419.959991    405.250000  \n",
       "7448  102896000     405.839996    401.200012  \n",
       "7449   65370800     404.100006    396.000000  \n",
       "7450   85460800            NaN           NaN  "
      ]
     },
     "execution_count": 3,
     "metadata": {},
     "output_type": "execute_result"
    }
   ],
   "source": [
    "spy['Tommorow high'] = spy['High'].shift(-1)\n",
    "spy['Tommorow low'] = spy['Low'].shift(-1)\n",
    "spy.tail()"
   ]
  },
  {
   "cell_type": "code",
   "execution_count": 4,
   "metadata": {
    "scrolled": true
   },
   "outputs": [
    {
     "data": {
      "text/html": [
       "<div>\n",
       "<style scoped>\n",
       "    .dataframe tbody tr th:only-of-type {\n",
       "        vertical-align: middle;\n",
       "    }\n",
       "\n",
       "    .dataframe tbody tr th {\n",
       "        vertical-align: top;\n",
       "    }\n",
       "\n",
       "    .dataframe thead th {\n",
       "        text-align: right;\n",
       "    }\n",
       "</style>\n",
       "<table border=\"1\" class=\"dataframe\">\n",
       "  <thead>\n",
       "    <tr style=\"text-align: right;\">\n",
       "      <th></th>\n",
       "      <th>Date</th>\n",
       "      <th>Open</th>\n",
       "      <th>High</th>\n",
       "      <th>Low</th>\n",
       "      <th>Close</th>\n",
       "      <th>Adj Close</th>\n",
       "      <th>Volume</th>\n",
       "      <th>Tommorow high</th>\n",
       "      <th>Tommorow low</th>\n",
       "    </tr>\n",
       "  </thead>\n",
       "  <tbody>\n",
       "    <tr>\n",
       "      <th>7446</th>\n",
       "      <td>2022-08-24</td>\n",
       "      <td>412.109985</td>\n",
       "      <td>415.109985</td>\n",
       "      <td>411.390015</td>\n",
       "      <td>413.670013</td>\n",
       "      <td>413.670013</td>\n",
       "      <td>49177800</td>\n",
       "      <td>419.559998</td>\n",
       "      <td>414.089996</td>\n",
       "    </tr>\n",
       "    <tr>\n",
       "      <th>7447</th>\n",
       "      <td>2022-08-25</td>\n",
       "      <td>415.239990</td>\n",
       "      <td>419.559998</td>\n",
       "      <td>414.089996</td>\n",
       "      <td>419.510010</td>\n",
       "      <td>419.510010</td>\n",
       "      <td>50942300</td>\n",
       "      <td>419.959991</td>\n",
       "      <td>405.250000</td>\n",
       "    </tr>\n",
       "    <tr>\n",
       "      <th>7448</th>\n",
       "      <td>2022-08-26</td>\n",
       "      <td>419.390015</td>\n",
       "      <td>419.959991</td>\n",
       "      <td>405.250000</td>\n",
       "      <td>405.309998</td>\n",
       "      <td>405.309998</td>\n",
       "      <td>102896000</td>\n",
       "      <td>405.839996</td>\n",
       "      <td>401.200012</td>\n",
       "    </tr>\n",
       "    <tr>\n",
       "      <th>7449</th>\n",
       "      <td>2022-08-29</td>\n",
       "      <td>402.200012</td>\n",
       "      <td>405.839996</td>\n",
       "      <td>401.200012</td>\n",
       "      <td>402.630005</td>\n",
       "      <td>402.630005</td>\n",
       "      <td>65370800</td>\n",
       "      <td>404.100006</td>\n",
       "      <td>396.000000</td>\n",
       "    </tr>\n",
       "    <tr>\n",
       "      <th>7450</th>\n",
       "      <td>2022-08-30</td>\n",
       "      <td>403.850006</td>\n",
       "      <td>404.100006</td>\n",
       "      <td>396.000000</td>\n",
       "      <td>398.209991</td>\n",
       "      <td>398.209991</td>\n",
       "      <td>85460800</td>\n",
       "      <td>405.839996</td>\n",
       "      <td>401.200012</td>\n",
       "    </tr>\n",
       "  </tbody>\n",
       "</table>\n",
       "</div>"
      ],
      "text/plain": [
       "           Date        Open        High         Low       Close   Adj Close  \\\n",
       "7446 2022-08-24  412.109985  415.109985  411.390015  413.670013  413.670013   \n",
       "7447 2022-08-25  415.239990  419.559998  414.089996  419.510010  419.510010   \n",
       "7448 2022-08-26  419.390015  419.959991  405.250000  405.309998  405.309998   \n",
       "7449 2022-08-29  402.200012  405.839996  401.200012  402.630005  402.630005   \n",
       "7450 2022-08-30  403.850006  404.100006  396.000000  398.209991  398.209991   \n",
       "\n",
       "         Volume  Tommorow high  Tommorow low  \n",
       "7446   49177800     419.559998    414.089996  \n",
       "7447   50942300     419.959991    405.250000  \n",
       "7448  102896000     405.839996    401.200012  \n",
       "7449   65370800     404.100006    396.000000  \n",
       "7450   85460800     405.839996    401.200012  "
      ]
     },
     "execution_count": 4,
     "metadata": {},
     "output_type": "execute_result"
    }
   ],
   "source": [
    "spy.iloc[-1,7] = spy.iloc[-2,2]\n",
    "spy.iloc[-1,8] = spy.iloc[-2,3]\n",
    "spy.tail()"
   ]
  },
  {
   "cell_type": "code",
   "execution_count": 5,
   "metadata": {},
   "outputs": [
    {
     "name": "stdout",
     "output_type": "stream",
     "text": [
      "<class 'pandas.core.frame.DataFrame'>\n",
      "Int64Index: 7451 entries, 0 to 7450\n",
      "Data columns (total 9 columns):\n",
      " #   Column         Non-Null Count  Dtype         \n",
      "---  ------         --------------  -----         \n",
      " 0   Date           7451 non-null   datetime64[ns]\n",
      " 1   Open           7451 non-null   float64       \n",
      " 2   High           7451 non-null   float64       \n",
      " 3   Low            7451 non-null   float64       \n",
      " 4   Close          7451 non-null   float64       \n",
      " 5   Adj Close      7451 non-null   float64       \n",
      " 6   Volume         7451 non-null   int64         \n",
      " 7   Tommorow high  7451 non-null   float64       \n",
      " 8   Tommorow low   7451 non-null   float64       \n",
      "dtypes: datetime64[ns](1), float64(7), int64(1)\n",
      "memory usage: 582.1 KB\n"
     ]
    }
   ],
   "source": [
    "spy.info()"
   ]
  },
  {
   "cell_type": "markdown",
   "metadata": {},
   "source": [
    "## Generating Technical Indicators\n",
    "\n",
    "We will use indicators from the \"ta\" library."
   ]
  },
  {
   "cell_type": "code",
   "execution_count": 6,
   "metadata": {},
   "outputs": [
    {
     "name": "stderr",
     "output_type": "stream",
     "text": [
      "C:\\Users\\tmrse\\anaconda3\\lib\\site-packages\\ta\\trend.py:769: RuntimeWarning: invalid value encountered in double_scalars\n",
      "  dip[idx] = 100 * (self._dip[idx] / value)\n",
      "C:\\Users\\tmrse\\anaconda3\\lib\\site-packages\\ta\\trend.py:774: RuntimeWarning: invalid value encountered in double_scalars\n",
      "  din[idx] = 100 * (self._din[idx] / value)\n"
     ]
    },
    {
     "name": "stdout",
     "output_type": "stream",
     "text": [
      "<class 'pandas.core.frame.DataFrame'>\n",
      "Int64Index: 7451 entries, 0 to 7450\n",
      "Data columns (total 95 columns):\n",
      " #   Column                     Non-Null Count  Dtype         \n",
      "---  ------                     --------------  -----         \n",
      " 0   Date                       7451 non-null   datetime64[ns]\n",
      " 1   Open                       7451 non-null   float64       \n",
      " 2   High                       7451 non-null   float64       \n",
      " 3   Low                        7451 non-null   float64       \n",
      " 4   Close                      7451 non-null   float64       \n",
      " 5   Adj Close                  7451 non-null   float64       \n",
      " 6   Volume                     7451 non-null   int64         \n",
      " 7   Tommorow high              7451 non-null   float64       \n",
      " 8   Tommorow low               7451 non-null   float64       \n",
      " 9   volume_adi                 7451 non-null   float64       \n",
      " 10  volume_obv                 7451 non-null   int64         \n",
      " 11  volume_cmf                 7451 non-null   float64       \n",
      " 12  volume_fi                  7451 non-null   float64       \n",
      " 13  volume_em                  7451 non-null   float64       \n",
      " 14  volume_sma_em              7451 non-null   float64       \n",
      " 15  volume_vpt                 7451 non-null   float64       \n",
      " 16  volume_vwap                7451 non-null   float64       \n",
      " 17  volume_mfi                 7451 non-null   float64       \n",
      " 18  volume_nvi                 7451 non-null   float64       \n",
      " 19  volatility_bbm             7451 non-null   float64       \n",
      " 20  volatility_bbh             7451 non-null   float64       \n",
      " 21  volatility_bbl             7451 non-null   float64       \n",
      " 22  volatility_bbw             7451 non-null   float64       \n",
      " 23  volatility_bbp             7451 non-null   float64       \n",
      " 24  volatility_bbhi            7451 non-null   float64       \n",
      " 25  volatility_bbli            7451 non-null   float64       \n",
      " 26  volatility_kcc             7451 non-null   float64       \n",
      " 27  volatility_kch             7451 non-null   float64       \n",
      " 28  volatility_kcl             7451 non-null   float64       \n",
      " 29  volatility_kcw             7451 non-null   float64       \n",
      " 30  volatility_kcp             7451 non-null   float64       \n",
      " 31  volatility_kchi            7451 non-null   float64       \n",
      " 32  volatility_kcli            7451 non-null   float64       \n",
      " 33  volatility_dcl             7451 non-null   float64       \n",
      " 34  volatility_dch             7451 non-null   float64       \n",
      " 35  volatility_dcm             7451 non-null   float64       \n",
      " 36  volatility_dcw             7451 non-null   float64       \n",
      " 37  volatility_dcp             7451 non-null   float64       \n",
      " 38  volatility_atr             7451 non-null   float64       \n",
      " 39  volatility_ui              7451 non-null   float64       \n",
      " 40  trend_macd                 7451 non-null   float64       \n",
      " 41  trend_macd_signal          7451 non-null   float64       \n",
      " 42  trend_macd_diff            7451 non-null   float64       \n",
      " 43  trend_sma_fast             7451 non-null   float64       \n",
      " 44  trend_sma_slow             7451 non-null   float64       \n",
      " 45  trend_ema_fast             7451 non-null   float64       \n",
      " 46  trend_ema_slow             7451 non-null   float64       \n",
      " 47  trend_vortex_ind_pos       7451 non-null   float64       \n",
      " 48  trend_vortex_ind_neg       7451 non-null   float64       \n",
      " 49  trend_vortex_ind_diff      7451 non-null   float64       \n",
      " 50  trend_trix                 7451 non-null   float64       \n",
      " 51  trend_mass_index           7451 non-null   float64       \n",
      " 52  trend_dpo                  7451 non-null   float64       \n",
      " 53  trend_kst                  7451 non-null   float64       \n",
      " 54  trend_kst_sig              7451 non-null   float64       \n",
      " 55  trend_kst_diff             7451 non-null   float64       \n",
      " 56  trend_ichimoku_conv        7451 non-null   float64       \n",
      " 57  trend_ichimoku_base        7451 non-null   float64       \n",
      " 58  trend_ichimoku_a           7451 non-null   float64       \n",
      " 59  trend_ichimoku_b           7451 non-null   float64       \n",
      " 60  trend_stc                  7451 non-null   float64       \n",
      " 61  trend_adx                  7451 non-null   float64       \n",
      " 62  trend_adx_pos              7451 non-null   float64       \n",
      " 63  trend_adx_neg              7451 non-null   float64       \n",
      " 64  trend_cci                  7451 non-null   float64       \n",
      " 65  trend_visual_ichimoku_a    7451 non-null   float64       \n",
      " 66  trend_visual_ichimoku_b    7451 non-null   float64       \n",
      " 67  trend_aroon_up             7451 non-null   float64       \n",
      " 68  trend_aroon_down           7451 non-null   float64       \n",
      " 69  trend_aroon_ind            7451 non-null   float64       \n",
      " 70  trend_psar_up              7451 non-null   float64       \n",
      " 71  trend_psar_down            7451 non-null   float64       \n",
      " 72  trend_psar_up_indicator    7451 non-null   float64       \n",
      " 73  trend_psar_down_indicator  7451 non-null   float64       \n",
      " 74  momentum_rsi               7451 non-null   float64       \n",
      " 75  momentum_stoch_rsi         7451 non-null   float64       \n",
      " 76  momentum_stoch_rsi_k       7451 non-null   float64       \n",
      " 77  momentum_stoch_rsi_d       7451 non-null   float64       \n",
      " 78  momentum_tsi               7451 non-null   float64       \n",
      " 79  momentum_uo                7451 non-null   float64       \n",
      " 80  momentum_stoch             7451 non-null   float64       \n",
      " 81  momentum_stoch_signal      7451 non-null   float64       \n",
      " 82  momentum_wr                7451 non-null   float64       \n",
      " 83  momentum_ao                7451 non-null   float64       \n",
      " 84  momentum_roc               7451 non-null   float64       \n",
      " 85  momentum_ppo               7451 non-null   float64       \n",
      " 86  momentum_ppo_signal        7451 non-null   float64       \n",
      " 87  momentum_ppo_hist          7451 non-null   float64       \n",
      " 88  momentum_pvo               7451 non-null   float64       \n",
      " 89  momentum_pvo_signal        7451 non-null   float64       \n",
      " 90  momentum_pvo_hist          7451 non-null   float64       \n",
      " 91  momentum_kama              7451 non-null   float64       \n",
      " 92  others_dr                  7451 non-null   float64       \n",
      " 93  others_dlr                 7451 non-null   float64       \n",
      " 94  others_cr                  7451 non-null   float64       \n",
      "dtypes: datetime64[ns](1), float64(92), int64(2)\n",
      "memory usage: 5.8 MB\n",
      "None\n"
     ]
    }
   ],
   "source": [
    "import ta\n",
    "from ta import add_all_ta_features\n",
    "from ta.utils import dropna\n",
    "\n",
    "#spy = dropna(spy)\n",
    "\n",
    "spy = add_all_ta_features(\n",
    "    spy, open=\"Open\", high=\"High\", low=\"Low\", close=\"Close\", volume=\"Volume\", fillna=True)\n",
    "\n",
    "print(spy.info())"
   ]
  },
  {
   "cell_type": "code",
   "execution_count": 7,
   "metadata": {
    "scrolled": true
   },
   "outputs": [
    {
     "data": {
      "text/html": [
       "<div>\n",
       "<style scoped>\n",
       "    .dataframe tbody tr th:only-of-type {\n",
       "        vertical-align: middle;\n",
       "    }\n",
       "\n",
       "    .dataframe tbody tr th {\n",
       "        vertical-align: top;\n",
       "    }\n",
       "\n",
       "    .dataframe thead th {\n",
       "        text-align: right;\n",
       "    }\n",
       "</style>\n",
       "<table border=\"1\" class=\"dataframe\">\n",
       "  <thead>\n",
       "    <tr style=\"text-align: right;\">\n",
       "      <th></th>\n",
       "      <th>Date</th>\n",
       "      <th>Open</th>\n",
       "      <th>High</th>\n",
       "      <th>Low</th>\n",
       "      <th>Close</th>\n",
       "      <th>Adj Close</th>\n",
       "      <th>Volume</th>\n",
       "      <th>Tommorow high</th>\n",
       "      <th>Tommorow low</th>\n",
       "      <th>volume_adi</th>\n",
       "      <th>...</th>\n",
       "      <th>momentum_ppo</th>\n",
       "      <th>momentum_ppo_signal</th>\n",
       "      <th>momentum_ppo_hist</th>\n",
       "      <th>momentum_pvo</th>\n",
       "      <th>momentum_pvo_signal</th>\n",
       "      <th>momentum_pvo_hist</th>\n",
       "      <th>momentum_kama</th>\n",
       "      <th>others_dr</th>\n",
       "      <th>others_dlr</th>\n",
       "      <th>others_cr</th>\n",
       "    </tr>\n",
       "  </thead>\n",
       "  <tbody>\n",
       "    <tr>\n",
       "      <th>7446</th>\n",
       "      <td>2022-08-24</td>\n",
       "      <td>412.109985</td>\n",
       "      <td>415.109985</td>\n",
       "      <td>411.390015</td>\n",
       "      <td>413.670013</td>\n",
       "      <td>413.670013</td>\n",
       "      <td>49177800</td>\n",
       "      <td>419.559998</td>\n",
       "      <td>414.089996</td>\n",
       "      <td>3.971792e+10</td>\n",
       "      <td>...</td>\n",
       "      <td>1.331068</td>\n",
       "      <td>1.780697</td>\n",
       "      <td>-0.449629</td>\n",
       "      <td>-6.679539</td>\n",
       "      <td>-6.887981</td>\n",
       "      <td>0.208442</td>\n",
       "      <td>420.973055</td>\n",
       "      <td>0.320118</td>\n",
       "      <td>0.319607</td>\n",
       "      <td>841.496473</td>\n",
       "    </tr>\n",
       "    <tr>\n",
       "      <th>7447</th>\n",
       "      <td>2022-08-25</td>\n",
       "      <td>415.239990</td>\n",
       "      <td>419.559998</td>\n",
       "      <td>414.089996</td>\n",
       "      <td>419.510010</td>\n",
       "      <td>419.510010</td>\n",
       "      <td>50942300</td>\n",
       "      <td>419.959991</td>\n",
       "      <td>405.250000</td>\n",
       "      <td>3.976793e+10</td>\n",
       "      <td>...</td>\n",
       "      <td>1.263327</td>\n",
       "      <td>1.677223</td>\n",
       "      <td>-0.413896</td>\n",
       "      <td>-7.314585</td>\n",
       "      <td>-6.973301</td>\n",
       "      <td>-0.341283</td>\n",
       "      <td>420.965388</td>\n",
       "      <td>1.411753</td>\n",
       "      <td>1.401880</td>\n",
       "      <td>854.788074</td>\n",
       "    </tr>\n",
       "    <tr>\n",
       "      <th>7448</th>\n",
       "      <td>2022-08-26</td>\n",
       "      <td>419.390015</td>\n",
       "      <td>419.959991</td>\n",
       "      <td>405.250000</td>\n",
       "      <td>405.309998</td>\n",
       "      <td>405.309998</td>\n",
       "      <td>102896000</td>\n",
       "      <td>405.839996</td>\n",
       "      <td>401.200012</td>\n",
       "      <td>3.966587e+10</td>\n",
       "      <td>...</td>\n",
       "      <td>0.924091</td>\n",
       "      <td>1.526597</td>\n",
       "      <td>-0.602505</td>\n",
       "      <td>-0.961919</td>\n",
       "      <td>-5.771025</td>\n",
       "      <td>4.809106</td>\n",
       "      <td>418.889433</td>\n",
       "      <td>-3.384904</td>\n",
       "      <td>-3.443519</td>\n",
       "      <td>822.469412</td>\n",
       "    </tr>\n",
       "    <tr>\n",
       "      <th>7449</th>\n",
       "      <td>2022-08-29</td>\n",
       "      <td>402.200012</td>\n",
       "      <td>405.839996</td>\n",
       "      <td>401.200012</td>\n",
       "      <td>402.630005</td>\n",
       "      <td>402.630005</td>\n",
       "      <td>65370800</td>\n",
       "      <td>404.100006</td>\n",
       "      <td>396.000000</td>\n",
       "      <td>3.964080e+10</td>\n",
       "      <td>...</td>\n",
       "      <td>0.595617</td>\n",
       "      <td>1.340401</td>\n",
       "      <td>-0.744784</td>\n",
       "      <td>-0.815292</td>\n",
       "      <td>-4.779878</td>\n",
       "      <td>3.964587</td>\n",
       "      <td>416.051529</td>\n",
       "      <td>-0.661221</td>\n",
       "      <td>-0.663416</td>\n",
       "      <td>816.369855</td>\n",
       "    </tr>\n",
       "    <tr>\n",
       "      <th>7450</th>\n",
       "      <td>2022-08-30</td>\n",
       "      <td>403.850006</td>\n",
       "      <td>404.100006</td>\n",
       "      <td>396.000000</td>\n",
       "      <td>398.209991</td>\n",
       "      <td>398.209991</td>\n",
       "      <td>85460800</td>\n",
       "      <td>405.839996</td>\n",
       "      <td>401.200012</td>\n",
       "      <td>3.960197e+10</td>\n",
       "      <td>...</td>\n",
       "      <td>0.245142</td>\n",
       "      <td>1.121349</td>\n",
       "      <td>-0.876207</td>\n",
       "      <td>1.720939</td>\n",
       "      <td>-3.479715</td>\n",
       "      <td>5.200654</td>\n",
       "      <td>412.322417</td>\n",
       "      <td>-1.097786</td>\n",
       "      <td>-1.103856</td>\n",
       "      <td>806.310079</td>\n",
       "    </tr>\n",
       "  </tbody>\n",
       "</table>\n",
       "<p>5 rows × 95 columns</p>\n",
       "</div>"
      ],
      "text/plain": [
       "           Date        Open        High         Low       Close   Adj Close  \\\n",
       "7446 2022-08-24  412.109985  415.109985  411.390015  413.670013  413.670013   \n",
       "7447 2022-08-25  415.239990  419.559998  414.089996  419.510010  419.510010   \n",
       "7448 2022-08-26  419.390015  419.959991  405.250000  405.309998  405.309998   \n",
       "7449 2022-08-29  402.200012  405.839996  401.200012  402.630005  402.630005   \n",
       "7450 2022-08-30  403.850006  404.100006  396.000000  398.209991  398.209991   \n",
       "\n",
       "         Volume  Tommorow high  Tommorow low    volume_adi  ...  momentum_ppo  \\\n",
       "7446   49177800     419.559998    414.089996  3.971792e+10  ...      1.331068   \n",
       "7447   50942300     419.959991    405.250000  3.976793e+10  ...      1.263327   \n",
       "7448  102896000     405.839996    401.200012  3.966587e+10  ...      0.924091   \n",
       "7449   65370800     404.100006    396.000000  3.964080e+10  ...      0.595617   \n",
       "7450   85460800     405.839996    401.200012  3.960197e+10  ...      0.245142   \n",
       "\n",
       "      momentum_ppo_signal  momentum_ppo_hist  momentum_pvo  \\\n",
       "7446             1.780697          -0.449629     -6.679539   \n",
       "7447             1.677223          -0.413896     -7.314585   \n",
       "7448             1.526597          -0.602505     -0.961919   \n",
       "7449             1.340401          -0.744784     -0.815292   \n",
       "7450             1.121349          -0.876207      1.720939   \n",
       "\n",
       "      momentum_pvo_signal  momentum_pvo_hist  momentum_kama  others_dr  \\\n",
       "7446            -6.887981           0.208442     420.973055   0.320118   \n",
       "7447            -6.973301          -0.341283     420.965388   1.411753   \n",
       "7448            -5.771025           4.809106     418.889433  -3.384904   \n",
       "7449            -4.779878           3.964587     416.051529  -0.661221   \n",
       "7450            -3.479715           5.200654     412.322417  -1.097786   \n",
       "\n",
       "      others_dlr   others_cr  \n",
       "7446    0.319607  841.496473  \n",
       "7447    1.401880  854.788074  \n",
       "7448   -3.443519  822.469412  \n",
       "7449   -0.663416  816.369855  \n",
       "7450   -1.103856  806.310079  \n",
       "\n",
       "[5 rows x 95 columns]"
      ]
     },
     "execution_count": 7,
     "metadata": {},
     "output_type": "execute_result"
    }
   ],
   "source": [
    "spy.tail()"
   ]
  },
  {
   "cell_type": "markdown",
   "metadata": {},
   "source": [
    "## Splitting the data"
   ]
  },
  {
   "cell_type": "code",
   "execution_count": 8,
   "metadata": {},
   "outputs": [],
   "source": [
    "train = spy[spy['Date'] < datetime(year=2020, month=1, day=1)]\n",
    "test = spy[spy['Date'] >= datetime(year=2020, month=1, day=1)]"
   ]
  },
  {
   "cell_type": "markdown",
   "metadata": {},
   "source": [
    "## Making Predictions\n",
    "\n",
    "### Linear Regression\n",
    "\n",
    "Mean Absolute Error will be our error metric since it is more intuitive."
   ]
  },
  {
   "cell_type": "code",
   "execution_count": 9,
   "metadata": {},
   "outputs": [
    {
     "data": {
      "text/plain": [
       "2.499554016054489"
      ]
     },
     "execution_count": 9,
     "metadata": {},
     "output_type": "execute_result"
    }
   ],
   "source": [
    "from sklearn.linear_model import LinearRegression\n",
    "from sklearn.metrics import mean_absolute_error\n",
    "\n",
    "columns = spy.columns.drop(['Date', 'Tommorow high', 'Tommorow low'])\n",
    "\n",
    "model = LinearRegression()\n",
    "model.fit(train[columns], train['Tommorow high'])\n",
    "predictions = model.predict(test[columns])\n",
    "mae = mean_absolute_error(test['Tommorow high'], predictions)\n",
    "mae"
   ]
  },
  {
   "cell_type": "code",
   "execution_count": 10,
   "metadata": {},
   "outputs": [
    {
     "data": {
      "text/plain": [
       "3.0667680768335464"
      ]
     },
     "execution_count": 10,
     "metadata": {},
     "output_type": "execute_result"
    }
   ],
   "source": [
    "from sklearn.linear_model import LinearRegression\n",
    "from sklearn.metrics import mean_absolute_error\n",
    "\n",
    "model = LinearRegression()\n",
    "model.fit(train[columns], train['Tommorow low'])\n",
    "predictions = model.predict(test[columns])\n",
    "mae = mean_absolute_error(test['Tommorow low'], predictions)\n",
    "mae"
   ]
  },
  {
   "cell_type": "markdown",
   "metadata": {},
   "source": [
    "### Random Forest"
   ]
  },
  {
   "cell_type": "code",
   "execution_count": 11,
   "metadata": {},
   "outputs": [
    {
     "data": {
      "text/plain": [
       "70.99769585733232"
      ]
     },
     "execution_count": 11,
     "metadata": {},
     "output_type": "execute_result"
    }
   ],
   "source": [
    "from sklearn.ensemble import RandomForestRegressor\n",
    "\n",
    "model = RandomForestRegressor(random_state=1, n_estimators=100)\n",
    "model.fit(train[columns], train['Tommorow high'])\n",
    "predictions = model.predict(test[columns])\n",
    "mae = mean_absolute_error(test['Tommorow high'], predictions)\n",
    "mae"
   ]
  },
  {
   "cell_type": "code",
   "execution_count": 12,
   "metadata": {},
   "outputs": [
    {
     "data": {
      "text/plain": [
       "69.11946857260821"
      ]
     },
     "execution_count": 12,
     "metadata": {},
     "output_type": "execute_result"
    }
   ],
   "source": [
    "from sklearn.ensemble import RandomForestRegressor\n",
    "\n",
    "model = RandomForestRegressor(random_state=1, n_estimators=100)\n",
    "model.fit(train[columns], train['Tommorow low'])\n",
    "predictions = model.predict(test[columns])\n",
    "mae = mean_absolute_error(test['Tommorow low'], predictions)\n",
    "mae"
   ]
  },
  {
   "cell_type": "markdown",
   "metadata": {},
   "source": [
    "## Decision Tree"
   ]
  },
  {
   "cell_type": "code",
   "execution_count": 13,
   "metadata": {},
   "outputs": [
    {
     "data": {
      "text/plain": [
       "84.99248419797532"
      ]
     },
     "execution_count": 13,
     "metadata": {},
     "output_type": "execute_result"
    }
   ],
   "source": [
    "from sklearn.tree import DecisionTreeRegressor\n",
    "\n",
    "model = DecisionTreeRegressor(random_state=1, min_samples_leaf=6, max_depth=4)\n",
    "model.fit(train[columns], train['Tommorow high'])\n",
    "predictions = model.predict(test[columns])\n",
    "mae = mean_absolute_error(test['Tommorow high'], predictions)\n",
    "mae"
   ]
  },
  {
   "cell_type": "code",
   "execution_count": 14,
   "metadata": {},
   "outputs": [
    {
     "data": {
      "text/plain": [
       "81.93300832286194"
      ]
     },
     "execution_count": 14,
     "metadata": {},
     "output_type": "execute_result"
    }
   ],
   "source": [
    "from sklearn.tree import DecisionTreeRegressor\n",
    "\n",
    "model = DecisionTreeRegressor(random_state=1, min_samples_leaf=6, max_depth=4)\n",
    "model.fit(train[columns], train['Tommorow low'])\n",
    "predictions = model.predict(test[columns])\n",
    "mae = mean_absolute_error(test['Tommorow low'], predictions)\n",
    "mae"
   ]
  },
  {
   "cell_type": "markdown",
   "metadata": {},
   "source": [
    "## Gradient Boosting Regressor"
   ]
  },
  {
   "cell_type": "code",
   "execution_count": 15,
   "metadata": {},
   "outputs": [
    {
     "data": {
      "text/plain": [
       "71.3710043854274"
      ]
     },
     "execution_count": 15,
     "metadata": {},
     "output_type": "execute_result"
    }
   ],
   "source": [
    "from sklearn.ensemble import GradientBoostingRegressor\n",
    "\n",
    "model = GradientBoostingRegressor(random_state=1)\n",
    "model.fit(train[columns], train['Tommorow high'])\n",
    "predictions = model.predict(test[columns])\n",
    "mae = mean_absolute_error(test['Tommorow high'], predictions)\n",
    "mae"
   ]
  },
  {
   "cell_type": "code",
   "execution_count": 16,
   "metadata": {},
   "outputs": [
    {
     "data": {
      "text/plain": [
       "68.31531981371086"
      ]
     },
     "execution_count": 16,
     "metadata": {},
     "output_type": "execute_result"
    }
   ],
   "source": [
    "model = DecisionTreeRegressor(random_state=1)\n",
    "model.fit(train[columns], train['Tommorow low'])\n",
    "predictions = model.predict(test[columns])\n",
    "mae = mean_absolute_error(test['Tommorow low'], predictions)\n",
    "mae"
   ]
  },
  {
   "cell_type": "markdown",
   "metadata": {},
   "source": [
    "## K Nearest Neighbors"
   ]
  },
  {
   "cell_type": "code",
   "execution_count": 22,
   "metadata": {},
   "outputs": [
    {
     "data": {
      "text/plain": [
       "[<matplotlib.lines.Line2D at 0x2150c58acd0>]"
      ]
     },
     "execution_count": 22,
     "metadata": {},
     "output_type": "execute_result"
    },
    {
     "data": {
      "image/png": "[encoded data removed]",
      "text/plain": [
       "<Figure size 432x288 with 1 Axes>"
      ]
     },
     "metadata": {
      "needs_background": "light"
     },
     "output_type": "display_data"
    }
   ],
   "source": [
    "from sklearn.neighbors import KNeighborsRegressor\n",
    "\n",
    "%matplotlib inline\n",
    "import matplotlib.pyplot as plt\n",
    "\n",
    "def knn(k):\n",
    "    model = KNeighborsRegressor(n_neighbors=k)\n",
    "    model.fit(train[columns], train['Tommorow high'])\n",
    "    predictions = model.predict(test[columns])\n",
    "    mae = mean_absolute_error(test['Tommorow high'], predictions)\n",
    "    return mae\n",
    "\n",
    "k_values = list(range(1,10))\n",
    "k_accuracies = []\n",
    "for k in k_values:\n",
    "    k_accuracies.append(knn(k))\n",
    "    \n",
    "plt.plot(k_values, k_accuracies)\n"
   ]
  },
  {
   "cell_type": "code",
   "execution_count": 23,
   "metadata": {
    "scrolled": true
   },
   "outputs": [
    {
     "data": {
      "text/plain": [
       "[<matplotlib.lines.Line2D at 0x2150c5f41f0>]"
      ]
     },
     "execution_count": 23,
     "metadata": {},
     "output_type": "execute_result"
    },
    {
     "data": {
      "image/png": "[encoded data removed]",
      "text/plain": [
       "<Figure size 432x288 with 1 Axes>"
      ]
     },
     "metadata": {
      "needs_background": "light"
     },
     "output_type": "display_data"
    }
   ],
   "source": [
    "def knn(k):\n",
    "    model = KNeighborsRegressor(n_neighbors=k)\n",
    "    model.fit(train[columns], train['Tommorow low'])\n",
    "    predictions = model.predict(test[columns])\n",
    "    mae = mean_absolute_error(test['Tommorow low'], predictions)\n",
    "    return mae\n",
    "\n",
    "k_values = list(range(1,10))\n",
    "k_accuracies = []\n",
    "for k in k_values:\n",
    "    k_accuracies.append(knn(k))\n",
    "    \n",
    "plt.plot(k_values, k_accuracies)"
   ]
  },
  {
   "cell_type": "markdown",
   "metadata": {},
   "source": [
    "## Neural Networks"
   ]
  },
  {
   "cell_type": "code",
   "execution_count": 27,
   "metadata": {},
   "outputs": [
    {
     "name": "stderr",
     "output_type": "stream",
     "text": [
      "C:\\Users\\tmrse\\anaconda3\\lib\\site-packages\\sklearn\\neural_network\\_multilayer_perceptron.py:582: ConvergenceWarning: Stochastic Optimizer: Maximum iterations (200) reached and the optimization hasn't converged yet.\n",
      "  warnings.warn(\n"
     ]
    },
    {
     "name": "stdout",
     "output_type": "stream",
     "text": [
      "[5302.8382834225595, 13360651.958688108, 423865.6185479873, 2299410.707264964, 2524303.653476983, 86681215.34649892]\n"
     ]
    },
    {
     "data": {
      "image/png": "[encoded data removed]",
      "text/plain": [
       "<Figure size 432x288 with 1 Axes>"
      ]
     },
     "metadata": {
      "needs_background": "light"
     },
     "output_type": "display_data"
    }
   ],
   "source": [
    "from sklearn.neural_network import MLPRegressor\n",
    "\n",
    "def nn(n):\n",
    "    model = MLPRegressor(hidden_layer_sizes=(n,n,n))\n",
    "    model.fit(train[columns], train['Tommorow high'])\n",
    "    predictions = model.predict(test[columns])\n",
    "    mae = mean_absolute_error(test['Tommorow high'], predictions)\n",
    "    return mae\n",
    "\n",
    "n_values = list(range(3,9))\n",
    "n_accuracies = []\n",
    "for n in n_values:\n",
    "    n_accuracies.append(nn(2**n))\n",
    "    \n",
    "plt.plot(n_values, n_accuracies)\n",
    "print(n_accuracies)\n"
   ]
  },
  {
   "cell_type": "code",
   "execution_count": 26,
   "metadata": {},
   "outputs": [
    {
     "name": "stderr",
     "output_type": "stream",
     "text": [
      "C:\\Users\\tmrse\\anaconda3\\lib\\site-packages\\sklearn\\neural_network\\_multilayer_perceptron.py:582: ConvergenceWarning: Stochastic Optimizer: Maximum iterations (200) reached and the optimization hasn't converged yet.\n",
      "  warnings.warn(\n",
      "C:\\Users\\tmrse\\anaconda3\\lib\\site-packages\\sklearn\\neural_network\\_multilayer_perceptron.py:582: ConvergenceWarning: Stochastic Optimizer: Maximum iterations (200) reached and the optimization hasn't converged yet.\n",
      "  warnings.warn(\n"
     ]
    },
    {
     "name": "stdout",
     "output_type": "stream",
     "text": [
      "[165335.9953715275, 1487066.2019786353, 1667524.68338759, 1682035.968644544, 260896.6626861357, 3807153.450815576]\n"
     ]
    },
    {
     "data": {
      "image/png": "[encoded data removed]",
      "text/plain": [
       "<Figure size 432x288 with 1 Axes>"
      ]
     },
     "metadata": {
      "needs_background": "light"
     },
     "output_type": "display_data"
    }
   ],
   "source": [
    "def nn(n):\n",
    "    model = MLPRegressor(hidden_layer_sizes=(n,))\n",
    "    model.fit(train[columns], train['Tommorow low'])\n",
    "    predictions = model.predict(test[columns])\n",
    "    mae = mean_absolute_error(test['Tommorow low'], predictions)\n",
    "    return mae\n",
    "\n",
    "n_values = list(range(3,9))\n",
    "n_accuracies = []\n",
    "for n in n_values:\n",
    "    n_accuracies.append(nn(2**n))\n",
    "    \n",
    "plt.plot(n_values, n_accuracies)\n",
    "print(n_accuracies)"
   ]
  }
 ],
 "metadata": {
  "kernelspec": {
   "display_name": "Python 3",
   "language": "python",
   "name": "python3"
  },
  "language_info": {
   "codemirror_mode": {
    "name": "ipython",
    "version": 3
   },
   "file_extension": ".py",
   "mimetype": "text/x-python",
   "name": "python",
   "nbconvert_exporter": "python",
   "pygments_lexer": "ipython3",
   "version": "3.8.5"
  }
 },
 "nbformat": 4,
 "nbformat_minor": 4
}
